{
 "cells": [
  {
   "cell_type": "code",
   "execution_count": 1,
   "metadata": {},
   "outputs": [],
   "source": [
    "import pandas as pd  # libreria pandas para el tratamiento de los datos\n",
    "import jsonlines # libreria jsonlines para leer los archivos provenientes en formato json\n",
    "import matplotlib # libreria matplotlib para la visualizacion de los datos"
   ]
  },
  {
   "cell_type": "code",
   "execution_count": 9,
   "metadata": {},
   "outputs": [],
   "source": [
    "path_yelp_busines = r'C:\\Users\\Usr\\Desktop\\A_labs\\DataSets\\PF-Yelp-Google\\yelp_dataset_business.json'\n",
    "\n",
    "# Abrir archivo JSONL y cargar datos\n",
    "with jsonlines.open(path_yelp_busines) as f:\n",
    "    data = [line for line in f]\n",
    "\n",
    "# Convertir el archivo JSONL en un DataFrame\n",
    "df = pd.json_normalize(data)\n",
    "\n",
    "\n"
   ]
  },
  {
   "cell_type": "code",
   "execution_count": 27,
   "metadata": {},
   "outputs": [
    {
     "name": "stdout",
     "output_type": "stream",
     "text": [
      "<class 'pandas.core.frame.DataFrame'>\n",
      "RangeIndex: 150346 entries, 0 to 150345\n",
      "Data columns (total 60 columns):\n",
      " #   Column                                 Non-Null Count   Dtype  \n",
      "---  ------                                 --------------   -----  \n",
      " 0   business_id                            150346 non-null  object \n",
      " 1   name                                   150346 non-null  object \n",
      " 2   address                                150346 non-null  object \n",
      " 3   city                                   150346 non-null  object \n",
      " 4   state                                  150346 non-null  object \n",
      " 5   postal_code                            150346 non-null  object \n",
      " 6   latitude                               150346 non-null  float64\n",
      " 7   longitude                              150346 non-null  float64\n",
      " 8   stars                                  150346 non-null  float64\n",
      " 9   review_count                           150346 non-null  int64  \n",
      " 10  is_open                                150346 non-null  int64  \n",
      " 11  categories                             150243 non-null  object \n",
      " 12  hours                                  0 non-null       float64\n",
      " 13  attributes.ByAppointmentOnly           42339 non-null   object \n",
      " 14  attributes.BusinessAcceptsCreditCards  119765 non-null  object \n",
      " 15  hours.Monday                           114474 non-null  object \n",
      " 16  hours.Tuesday                          120631 non-null  object \n",
      " 17  hours.Wednesday                        123771 non-null  object \n",
      " 18  hours.Thursday                         125198 non-null  object \n",
      " 19  hours.Friday                           124999 non-null  object \n",
      " 20  hours.Saturday                         110770 non-null  object \n",
      " 21  attributes.BikeParking                 72638 non-null   object \n",
      " 22  attributes.RestaurantsPriceRange2      85314 non-null   object \n",
      " 23  attributes.CoatCheck                   5584 non-null    object \n",
      " 24  attributes.RestaurantsTakeOut          59857 non-null   object \n",
      " 25  attributes.RestaurantsDelivery         56282 non-null   object \n",
      " 26  attributes.Caters                      40127 non-null   object \n",
      " 27  attributes.WiFi                        56914 non-null   object \n",
      " 28  attributes.BusinessParking             91085 non-null   object \n",
      " 29  attributes.WheelchairAccessible        28953 non-null   object \n",
      " 30  attributes.HappyHour                   15171 non-null   object \n",
      " 31  attributes.OutdoorSeating              48802 non-null   object \n",
      " 32  attributes.HasTV                       45084 non-null   object \n",
      " 33  attributes.RestaurantsReservations     45247 non-null   object \n",
      " 34  attributes.DogsAllowed                 18284 non-null   object \n",
      " 35  hours.Sunday                           81172 non-null   object \n",
      " 36  attributes.Alcohol                     43189 non-null   object \n",
      " 37  attributes.GoodForKids                 53375 non-null   object \n",
      " 38  attributes.RestaurantsAttire           39255 non-null   object \n",
      " 39  attributes.Ambience                    44279 non-null   object \n",
      " 40  attributes.RestaurantsTableService     19982 non-null   object \n",
      " 41  attributes.RestaurantsGoodForGroups    44170 non-null   object \n",
      " 42  attributes.DriveThru                   7760 non-null    object \n",
      " 43  attributes                             0 non-null       float64\n",
      " 44  attributes.NoiseLevel                  37993 non-null   object \n",
      " 45  attributes.GoodForMeal                 29087 non-null   object \n",
      " 46  attributes.BusinessAcceptsBitcoin      17430 non-null   object \n",
      " 47  attributes.Smoking                     4567 non-null    object \n",
      " 48  attributes.Music                       7521 non-null    object \n",
      " 49  attributes.GoodForDancing              4628 non-null    object \n",
      " 50  attributes.AcceptsInsurance            5713 non-null    object \n",
      " 51  attributes.BestNights                  5694 non-null    object \n",
      " 52  attributes.BYOB                        4451 non-null    object \n",
      " 53  attributes.Corkage                     3553 non-null    object \n",
      " 54  attributes.BYOBCorkage                 1444 non-null    object \n",
      " 55  attributes.HairSpecializesIn           1065 non-null    object \n",
      " 56  attributes.Open24Hours                 39 non-null      object \n",
      " 57  attributes.RestaurantsCounterService   19 non-null      object \n",
      " 58  attributes.AgesAllowed                 129 non-null     object \n",
      " 59  attributes.DietaryRestrictions         31 non-null      object \n",
      "dtypes: float64(5), int64(2), object(53)\n",
      "memory usage: 68.8+ MB\n"
     ]
    }
   ],
   "source": [
    "df.info()"
   ]
  },
  {
   "cell_type": "code",
   "execution_count": 29,
   "metadata": {},
   "outputs": [
    {
     "data": {
      "text/html": [
       "<div>\n",
       "<style scoped>\n",
       "    .dataframe tbody tr th:only-of-type {\n",
       "        vertical-align: middle;\n",
       "    }\n",
       "\n",
       "    .dataframe tbody tr th {\n",
       "        vertical-align: top;\n",
       "    }\n",
       "\n",
       "    .dataframe thead th {\n",
       "        text-align: right;\n",
       "    }\n",
       "</style>\n",
       "<table border=\"1\" class=\"dataframe\">\n",
       "  <thead>\n",
       "    <tr style=\"text-align: right;\">\n",
       "      <th></th>\n",
       "      <th>latitude</th>\n",
       "      <th>longitude</th>\n",
       "      <th>stars</th>\n",
       "      <th>review_count</th>\n",
       "      <th>is_open</th>\n",
       "      <th>hours</th>\n",
       "      <th>attributes</th>\n",
       "    </tr>\n",
       "  </thead>\n",
       "  <tbody>\n",
       "    <tr>\n",
       "      <th>count</th>\n",
       "      <td>150346.000000</td>\n",
       "      <td>150346.000000</td>\n",
       "      <td>150346.000000</td>\n",
       "      <td>150346.000000</td>\n",
       "      <td>150346.00000</td>\n",
       "      <td>0.0</td>\n",
       "      <td>0.0</td>\n",
       "    </tr>\n",
       "    <tr>\n",
       "      <th>mean</th>\n",
       "      <td>36.671150</td>\n",
       "      <td>-89.357339</td>\n",
       "      <td>3.596724</td>\n",
       "      <td>44.866561</td>\n",
       "      <td>0.79615</td>\n",
       "      <td>NaN</td>\n",
       "      <td>NaN</td>\n",
       "    </tr>\n",
       "    <tr>\n",
       "      <th>std</th>\n",
       "      <td>5.872759</td>\n",
       "      <td>14.918502</td>\n",
       "      <td>0.974421</td>\n",
       "      <td>121.120136</td>\n",
       "      <td>0.40286</td>\n",
       "      <td>NaN</td>\n",
       "      <td>NaN</td>\n",
       "    </tr>\n",
       "    <tr>\n",
       "      <th>min</th>\n",
       "      <td>27.555127</td>\n",
       "      <td>-120.095137</td>\n",
       "      <td>1.000000</td>\n",
       "      <td>5.000000</td>\n",
       "      <td>0.00000</td>\n",
       "      <td>NaN</td>\n",
       "      <td>NaN</td>\n",
       "    </tr>\n",
       "    <tr>\n",
       "      <th>25%</th>\n",
       "      <td>32.187293</td>\n",
       "      <td>-90.357810</td>\n",
       "      <td>3.000000</td>\n",
       "      <td>8.000000</td>\n",
       "      <td>1.00000</td>\n",
       "      <td>NaN</td>\n",
       "      <td>NaN</td>\n",
       "    </tr>\n",
       "    <tr>\n",
       "      <th>50%</th>\n",
       "      <td>38.777413</td>\n",
       "      <td>-86.121179</td>\n",
       "      <td>3.500000</td>\n",
       "      <td>15.000000</td>\n",
       "      <td>1.00000</td>\n",
       "      <td>NaN</td>\n",
       "      <td>NaN</td>\n",
       "    </tr>\n",
       "    <tr>\n",
       "      <th>75%</th>\n",
       "      <td>39.954036</td>\n",
       "      <td>-75.421542</td>\n",
       "      <td>4.500000</td>\n",
       "      <td>37.000000</td>\n",
       "      <td>1.00000</td>\n",
       "      <td>NaN</td>\n",
       "      <td>NaN</td>\n",
       "    </tr>\n",
       "    <tr>\n",
       "      <th>max</th>\n",
       "      <td>53.679197</td>\n",
       "      <td>-73.200457</td>\n",
       "      <td>5.000000</td>\n",
       "      <td>7568.000000</td>\n",
       "      <td>1.00000</td>\n",
       "      <td>NaN</td>\n",
       "      <td>NaN</td>\n",
       "    </tr>\n",
       "  </tbody>\n",
       "</table>\n",
       "</div>"
      ],
      "text/plain": [
       "            latitude      longitude          stars   review_count  \\\n",
       "count  150346.000000  150346.000000  150346.000000  150346.000000   \n",
       "mean       36.671150     -89.357339       3.596724      44.866561   \n",
       "std         5.872759      14.918502       0.974421     121.120136   \n",
       "min        27.555127    -120.095137       1.000000       5.000000   \n",
       "25%        32.187293     -90.357810       3.000000       8.000000   \n",
       "50%        38.777413     -86.121179       3.500000      15.000000   \n",
       "75%        39.954036     -75.421542       4.500000      37.000000   \n",
       "max        53.679197     -73.200457       5.000000    7568.000000   \n",
       "\n",
       "            is_open  hours  attributes  \n",
       "count  150346.00000    0.0         0.0  \n",
       "mean        0.79615    NaN         NaN  \n",
       "std         0.40286    NaN         NaN  \n",
       "min         0.00000    NaN         NaN  \n",
       "25%         1.00000    NaN         NaN  \n",
       "50%         1.00000    NaN         NaN  \n",
       "75%         1.00000    NaN         NaN  \n",
       "max         1.00000    NaN         NaN  "
      ]
     },
     "execution_count": 29,
     "metadata": {},
     "output_type": "execute_result"
    }
   ],
   "source": [
    "df.describe()"
   ]
  },
  {
   "cell_type": "code",
   "execution_count": 30,
   "metadata": {},
   "outputs": [
    {
     "data": {
      "text/plain": [
       "business_id                                   0\n",
       "name                                          0\n",
       "address                                       0\n",
       "city                                          0\n",
       "state                                         0\n",
       "postal_code                                   0\n",
       "latitude                                      0\n",
       "longitude                                     0\n",
       "stars                                         0\n",
       "review_count                                  0\n",
       "is_open                                       0\n",
       "categories                                  103\n",
       "hours                                    150346\n",
       "attributes.ByAppointmentOnly             108007\n",
       "attributes.BusinessAcceptsCreditCards     30581\n",
       "hours.Monday                              35872\n",
       "hours.Tuesday                             29715\n",
       "hours.Wednesday                           26575\n",
       "hours.Thursday                            25148\n",
       "hours.Friday                              25347\n",
       "hours.Saturday                            39576\n",
       "attributes.BikeParking                    77708\n",
       "attributes.RestaurantsPriceRange2         65032\n",
       "attributes.CoatCheck                     144762\n",
       "attributes.RestaurantsTakeOut             90489\n",
       "attributes.RestaurantsDelivery            94064\n",
       "attributes.Caters                        110219\n",
       "attributes.WiFi                           93432\n",
       "attributes.BusinessParking                59261\n",
       "attributes.WheelchairAccessible          121393\n",
       "attributes.HappyHour                     135175\n",
       "attributes.OutdoorSeating                101544\n",
       "attributes.HasTV                         105262\n",
       "attributes.RestaurantsReservations       105099\n",
       "attributes.DogsAllowed                   132062\n",
       "hours.Sunday                              69174\n",
       "attributes.Alcohol                       107157\n",
       "attributes.GoodForKids                    96971\n",
       "attributes.RestaurantsAttire             111091\n",
       "attributes.Ambience                      106067\n",
       "attributes.RestaurantsTableService       130364\n",
       "attributes.RestaurantsGoodForGroups      106176\n",
       "attributes.DriveThru                     142586\n",
       "attributes                               150346\n",
       "attributes.NoiseLevel                    112353\n",
       "attributes.GoodForMeal                   121259\n",
       "attributes.BusinessAcceptsBitcoin        132916\n",
       "attributes.Smoking                       145779\n",
       "attributes.Music                         142825\n",
       "attributes.GoodForDancing                145718\n",
       "attributes.AcceptsInsurance              144633\n",
       "attributes.BestNights                    144652\n",
       "attributes.BYOB                          145895\n",
       "attributes.Corkage                       146793\n",
       "attributes.BYOBCorkage                   148902\n",
       "attributes.HairSpecializesIn             149281\n",
       "attributes.Open24Hours                   150307\n",
       "attributes.RestaurantsCounterService     150327\n",
       "attributes.AgesAllowed                   150217\n",
       "attributes.DietaryRestrictions           150315\n",
       "dtype: int64"
      ]
     },
     "execution_count": 30,
     "metadata": {},
     "output_type": "execute_result"
    }
   ],
   "source": [
    "df.isnull().sum()"
   ]
  },
  {
   "cell_type": "code",
   "execution_count": 31,
   "metadata": {},
   "outputs": [
    {
     "data": {
      "text/plain": [
       "150346"
      ]
     },
     "execution_count": 31,
     "metadata": {},
     "output_type": "execute_result"
    }
   ],
   "source": [
    "df.shape[0]"
   ]
  },
  {
   "cell_type": "code",
   "execution_count": 33,
   "metadata": {},
   "outputs": [
    {
     "data": {
      "text/plain": [
       "0        NaN\n",
       "1        NaN\n",
       "2        NaN\n",
       "3        NaN\n",
       "4        NaN\n",
       "          ..\n",
       "150341   NaN\n",
       "150342   NaN\n",
       "150343   NaN\n",
       "150344   NaN\n",
       "150345   NaN\n",
       "Name: hours, Length: 150346, dtype: float64"
      ]
     },
     "execution_count": 33,
     "metadata": {},
     "output_type": "execute_result"
    }
   ],
   "source": [
    "df['hours']"
   ]
  },
  {
   "cell_type": "code",
   "execution_count": 35,
   "metadata": {},
   "outputs": [],
   "source": [
    "df.to_parquet(r'C:\\Users\\Usr\\Desktop\\A_labs\\DataSets\\PF-Yelp-Google\\yelp_dataset_business.parquet')"
   ]
  }
 ],
 "metadata": {
  "kernelspec": {
   "display_name": "Python 3",
   "language": "python",
   "name": "python3"
  },
  "language_info": {
   "codemirror_mode": {
    "name": "ipython",
    "version": 3
   },
   "file_extension": ".py",
   "mimetype": "text/x-python",
   "name": "python",
   "nbconvert_exporter": "python",
   "pygments_lexer": "ipython3",
   "version": "3.11.4"
  }
 },
 "nbformat": 4,
 "nbformat_minor": 2
}
